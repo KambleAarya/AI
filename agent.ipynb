{
 "cells": [
  {
   "cell_type": "code",
   "execution_count": 1,
   "id": "701a131c",
   "metadata": {},
   "outputs": [],
   "source": [
    "import random"
   ]
  },
  {
   "cell_type": "code",
   "execution_count": 2,
   "id": "73dc113a",
   "metadata": {},
   "outputs": [],
   "source": [
    "\n",
    "class Environment:\n",
    "    def __init__(self):\n",
    "        self.status = {'A': random.choice(['Clean', 'Dirty']), 'B': random.choice(['Clean', 'Dirty'])}\n",
    "        self.location = 'A'\n",
    "\n",
    "    def percept(self):\n",
    "        return self.location, self.status[self.location]\n",
    "\n",
    "    def execute_action(self, action):\n",
    "        if action == 'Suck':\n",
    "            print(f\"Action: Suck at {self.location}\")\n",
    "            self.status[self.location] = 'Clean'\n",
    "        elif action == 'Left':\n",
    "            self.location = 'A'\n",
    "            print(\"Action: Move Left to A\")\n",
    "        elif action == 'Right':\n",
    "            self.location = 'B'\n",
    "            print(\"Action: Move Right to B\")\n",
    "        elif action == 'NoOp':\n",
    "            print(\"Action: NoOp (do nothing)\")\n",
    "\n",
    "    def is_done(self):\n",
    "        return all(state == 'Clean' for state in self.status.values())\n",
    "\n",
    "    def show_status(self):\n",
    "        print(f\"Location: {self.location}, Status: {self.status}\")"
   ]
  },
  {
   "cell_type": "code",
   "execution_count": 3,
   "id": "a2015afa",
   "metadata": {},
   "outputs": [],
   "source": [
    "# 1. Simple Reflex Agent\n",
    "def simple_reflex_agent(percept):\n",
    "    location, status = percept\n",
    "    if status == 'Dirty':\n",
    "        return 'Suck'\n",
    "    elif location == 'A':\n",
    "        return 'Right'\n",
    "    else:\n",
    "        return 'Left'"
   ]
  },
  {
   "cell_type": "code",
   "execution_count": 4,
   "id": "9f33ecfb",
   "metadata": {},
   "outputs": [],
   "source": [
    "# 2. Model-Based Reflex Agent\n",
    "def model_based_reflex_agent(percept, model):\n",
    "    location, status = percept\n",
    "    model[location] = status\n",
    "    if status == 'Dirty':\n",
    "        return 'Suck'\n",
    "    elif model['A'] == 'Clean' and model['B'] == 'Clean':\n",
    "        return 'NoOp'\n",
    "    elif location == 'A':\n",
    "        return 'Right'\n",
    "    else:\n",
    "        return 'Left'"
   ]
  },
  {
   "cell_type": "code",
   "execution_count": 5,
   "id": "3c49df22",
   "metadata": {},
   "outputs": [],
   "source": [
    "# 3. Goal-Based Agent\n",
    "def goal_based_agent(percept, goal_state):\n",
    "    location, status = percept\n",
    "    if status == 'Dirty':\n",
    "        return 'Suck'\n",
    "    elif location == 'A':\n",
    "        return 'Right'\n",
    "    else:\n",
    "        return 'Left'"
   ]
  },
  {
   "cell_type": "code",
   "execution_count": 6,
   "id": "5bc20e72",
   "metadata": {},
   "outputs": [],
   "source": [
    "# 4. Utility-Based Agent\n",
    "def utility_based_agent(percept):\n",
    "    location, status = percept\n",
    "    if status == 'Dirty':\n",
    "        return 'Suck'\n",
    "    elif location == 'A':\n",
    "        return 'Right'\n",
    "    else:\n",
    "        return 'Left'"
   ]
  },
  {
   "cell_type": "code",
   "execution_count": 7,
   "id": "cbdca46a",
   "metadata": {},
   "outputs": [],
   "source": [
    "# 5. Learning Agent (Very Simple)\n",
    "def learning_agent(percept, memory):\n",
    "    location, status = percept\n",
    "    if status == 'Dirty':\n",
    "        memory[location] += 1\n",
    "        return 'Suck'\n",
    "    else:\n",
    "        return random.choice(['Left', 'Right', 'NoOp'])"
   ]
  },
  {
   "cell_type": "code",
   "execution_count": 10,
   "id": "4ae28a91",
   "metadata": {},
   "outputs": [],
   "source": [
    "def run_agent(agent_func, agent_type, env, steps=10):\n",
    "    print(f\"\\n===== Running {agent_type} =====\")\n",
    "    if agent_type == \"Model-Based Reflex Agent\":\n",
    "        model = {'A': None, 'B': None}\n",
    "        for _ in range(steps):\n",
    "            env.show_status()\n",
    "            action = agent_func(env.percept(), model)\n",
    "            env.execute_action(action)\n",
    "            if env.is_done():\n",
    "                break\n",
    "    elif agent_type == \"Learning Agent\":\n",
    "        memory = {'A': 0, 'B': 0}\n",
    "        for _ in range(steps):\n",
    "            env.show_status()\n",
    "            action = agent_func(env.percept(), memory)\n",
    "            env.execute_action(action)\n",
    "            if env.is_done():\n",
    "                break\n",
    "        print(\"Learning Memory:\", memory)\n",
    "    elif agent_type == \"Goal-Based Agent\":\n",
    "        goal_state = {'A': 'Clean', 'B': 'Clean'}\n",
    "        for _ in range(steps):\n",
    "            env.show_status()\n",
    "            action = agent_func(env.percept(), goal_state)\n",
    "            env.execute_action(action)\n",
    "            if env.is_done():\n",
    "                break\n",
    "    else:\n",
    "        for _ in range(steps):\n",
    "            env.show_status()\n",
    "            action = agent_func(env.percept())\n",
    "            env.execute_action(action)\n",
    "            if env.is_done():\n",
    "                break"
   ]
  },
  {
   "cell_type": "code",
   "execution_count": 12,
   "id": "ec0ef0e2",
   "metadata": {},
   "outputs": [
    {
     "name": "stdout",
     "output_type": "stream",
     "text": [
      "\n",
      "===== Running Simple Reflex Agent =====\n",
      "Location: A, Status: {'A': 'Clean', 'B': 'Dirty'}\n",
      "Action: Move Right to B\n",
      "Location: B, Status: {'A': 'Clean', 'B': 'Dirty'}\n",
      "Action: Suck at B\n",
      "\n",
      "===== Running Model-Based Reflex Agent =====\n",
      "Location: A, Status: {'A': 'Dirty', 'B': 'Dirty'}\n",
      "Action: Suck at A\n",
      "Location: A, Status: {'A': 'Clean', 'B': 'Dirty'}\n",
      "Action: Move Right to B\n",
      "Location: B, Status: {'A': 'Clean', 'B': 'Dirty'}\n",
      "Action: Suck at B\n",
      "\n",
      "===== Running Goal-Based Agent =====\n",
      "Location: A, Status: {'A': 'Dirty', 'B': 'Clean'}\n",
      "Action: Suck at A\n",
      "\n",
      "===== Running Utility-Based Agent =====\n",
      "Location: A, Status: {'A': 'Dirty', 'B': 'Dirty'}\n",
      "Action: Suck at A\n",
      "Location: A, Status: {'A': 'Clean', 'B': 'Dirty'}\n",
      "Action: Move Right to B\n",
      "Location: B, Status: {'A': 'Clean', 'B': 'Dirty'}\n",
      "Action: Suck at B\n",
      "\n",
      "===== Running Learning Agent =====\n",
      "Location: A, Status: {'A': 'Dirty', 'B': 'Clean'}\n",
      "Action: Suck at A\n",
      "Learning Memory: {'A': 1, 'B': 0}\n"
     ]
    }
   ],
   "source": [
    "for agent_name, agent_func in [\n",
    "        (\"Simple Reflex Agent\", simple_reflex_agent),\n",
    "        (\"Model-Based Reflex Agent\", model_based_reflex_agent),\n",
    "        (\"Goal-Based Agent\", goal_based_agent),\n",
    "        (\"Utility-Based Agent\", utility_based_agent),\n",
    "        (\"Learning Agent\", learning_agent)\n",
    "    ]:\n",
    "        env = Environment()\n",
    "        run_agent(agent_func, agent_name, env, steps=10)"
   ]
  }
 ],
 "metadata": {
  "kernelspec": {
   "display_name": "base",
   "language": "python",
   "name": "python3"
  },
  "language_info": {
   "codemirror_mode": {
    "name": "ipython",
    "version": 3
   },
   "file_extension": ".py",
   "mimetype": "text/x-python",
   "name": "python",
   "nbconvert_exporter": "python",
   "pygments_lexer": "ipython3",
   "version": "3.12.4"
  }
 },
 "nbformat": 4,
 "nbformat_minor": 5
}
