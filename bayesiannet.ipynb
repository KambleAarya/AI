{
  "cells": [
    {
      "cell_type": "code",
      "execution_count": 1,
      "id": "b00cbddf",
      "metadata": {
        "colab": {
          "base_uri": "https://localhost:8080/"
        },
        "id": "b00cbddf",
        "outputId": "b963b3d1-88a3-4e88-aa94-d398a8f1af05"
      },
      "outputs": [
        {
          "output_type": "stream",
          "name": "stdout",
          "text": [
            "Requirement already satisfied: graphviz in /usr/local/lib/python3.11/dist-packages (0.20.3)\n"
          ]
        }
      ],
      "source": [
        "!pip install graphviz"
      ]
    },
    {
      "cell_type": "code",
      "execution_count": 2,
      "id": "7ebfe839",
      "metadata": {
        "id": "7ebfe839"
      },
      "outputs": [],
      "source": [
        "from graphviz import Digraph\n",
        "from IPython.display import display\n",
        "from itertools import product"
      ]
    },
    {
      "cell_type": "code",
      "execution_count": 3,
      "id": "8aafd698",
      "metadata": {
        "id": "8aafd698"
      },
      "outputs": [],
      "source": [
        "class BayesianNetwork:\n",
        "    def __init__(self):\n",
        "        self.graph = {}\n",
        "        self.cpt = {}\n",
        "        self.variables = []\n",
        "        self.parents = {}\n",
        "\n",
        "    def add_node(self, var, parents, cpt_table):\n",
        "        self.variables.append(var)\n",
        "        self.graph[var] = parents\n",
        "        self.parents[var] = parents\n",
        "        self.cpt[var] = cpt_table\n",
        "\n",
        "    def visualize_ipython(self):\n",
        "        dot = Digraph(comment=\"Bayesian Network DAG\")\n",
        "        for node in self.variables:\n",
        "            dot.node(node)\n",
        "            for parent in self.parents[node]:\n",
        "                dot.edge(parent, node)\n",
        "        display(dot)\n",
        "\n",
        "    def get_prob(self, var, value, evidence):\n",
        "        key = tuple(evidence[p] for p in self.parents[var])\n",
        "        prob = self.cpt[var][key]\n",
        "        return prob if value else 1 - prob\n",
        "\n",
        "    def enumerate_all(self, vars, evidence):\n",
        "        if not vars:\n",
        "            return 1.0\n",
        "        Y = vars[0]\n",
        "        rest = vars[1:]\n",
        "        if Y in evidence:\n",
        "            prob = self.get_prob(Y, evidence[Y], evidence)\n",
        "            return prob * self.enumerate_all(rest, evidence)\n",
        "        else:\n",
        "            total = 0\n",
        "            for yval in [True, False]:\n",
        "                evidence_copy = evidence.copy()\n",
        "                evidence_copy[Y] = yval\n",
        "                prob = self.get_prob(Y, yval, evidence)\n",
        "                total += prob * self.enumerate_all(rest, evidence_copy)\n",
        "            return total\n",
        "\n",
        "    def query(self, var, evidence={}):\n",
        "        prob_true = self.enumerate_all(self.variables, {**evidence, var: True})\n",
        "        prob_false = self.enumerate_all(self.variables, {**evidence, var: False})\n",
        "        norm = prob_true + prob_false\n",
        "        return {True: prob_true / norm, False: prob_false / norm}"
      ]
    },
    {
      "cell_type": "code",
      "execution_count": 4,
      "id": "d3cefb2d",
      "metadata": {
        "id": "d3cefb2d"
      },
      "outputs": [],
      "source": [
        "bn = BayesianNetwork()"
      ]
    },
    {
      "cell_type": "code",
      "execution_count": 5,
      "id": "340ee5cc",
      "metadata": {
        "id": "340ee5cc"
      },
      "outputs": [],
      "source": [
        "bn.add_node('Burglary', [], {\n",
        "    (): 0.001\n",
        "})\n",
        "\n",
        "bn.add_node('Earthquake', [], {\n",
        "    (): 0.002\n",
        "})\n",
        "\n",
        "bn.add_node('Alarm', ['Burglary', 'Earthquake'], {\n",
        "    (True, True): 0.95,\n",
        "    (True, False): 0.94,\n",
        "    (False, True): 0.29,\n",
        "    (False, False): 0.001\n",
        "})\n",
        "\n",
        "bn.add_node('JohnCalls', ['Alarm'], {\n",
        "    (True,): 0.90,\n",
        "    (False,): 0.05\n",
        "})\n",
        "\n",
        "bn.add_node('MaryCalls', ['Alarm'], {\n",
        "    (True,): 0.70,\n",
        "    (False,): 0.01\n",
        "})"
      ]
    },
    {
      "cell_type": "code",
      "execution_count": 6,
      "id": "f6907197",
      "metadata": {
        "colab": {
          "base_uri": "https://localhost:8080/",
          "height": 271
        },
        "id": "f6907197",
        "outputId": "65098b0f-deae-43a6-88fc-e9ef6ccedbec"
      },
      "outputs": [
        {
          "output_type": "display_data",
          "data": {
            "image/svg+xml": "<?xml version=\"1.0\" encoding=\"UTF-8\" standalone=\"no\"?>\n<!DOCTYPE svg PUBLIC \"-//W3C//DTD SVG 1.1//EN\"\n \"http://www.w3.org/Graphics/SVG/1.1/DTD/svg11.dtd\">\n<!-- Generated by graphviz version 2.43.0 (0)\n -->\n<!-- Title: %3 Pages: 1 -->\n<svg width=\"216pt\" height=\"188pt\"\n viewBox=\"0.00 0.00 216.19 188.00\" xmlns=\"http://www.w3.org/2000/svg\" xmlns:xlink=\"http://www.w3.org/1999/xlink\">\n<g id=\"graph0\" class=\"graph\" transform=\"scale(1 1) rotate(0) translate(4 184)\">\n<title>%3</title>\n<polygon fill=\"white\" stroke=\"transparent\" points=\"-4,4 -4,-184 212.19,-184 212.19,4 -4,4\"/>\n<!-- Burglary -->\n<g id=\"node1\" class=\"node\">\n<title>Burglary</title>\n<ellipse fill=\"none\" stroke=\"black\" cx=\"46.5\" cy=\"-162\" rx=\"42.49\" ry=\"18\"/>\n<text text-anchor=\"middle\" x=\"46.5\" y=\"-158.3\" font-family=\"Times,serif\" font-size=\"14.00\">Burglary</text>\n</g>\n<!-- Alarm -->\n<g id=\"node3\" class=\"node\">\n<title>Alarm</title>\n<ellipse fill=\"none\" stroke=\"black\" cx=\"101.5\" cy=\"-90\" rx=\"33.6\" ry=\"18\"/>\n<text text-anchor=\"middle\" x=\"101.5\" y=\"-86.3\" font-family=\"Times,serif\" font-size=\"14.00\">Alarm</text>\n</g>\n<!-- Burglary&#45;&gt;Alarm -->\n<g id=\"edge1\" class=\"edge\">\n<title>Burglary&#45;&gt;Alarm</title>\n<path fill=\"none\" stroke=\"black\" d=\"M59.25,-144.76C66.19,-135.93 74.92,-124.83 82.63,-115.01\"/>\n<polygon fill=\"black\" stroke=\"black\" points=\"85.38,-117.17 88.81,-107.15 79.88,-112.85 85.38,-117.17\"/>\n</g>\n<!-- Earthquake -->\n<g id=\"node2\" class=\"node\">\n<title>Earthquake</title>\n<ellipse fill=\"none\" stroke=\"black\" cx=\"157.5\" cy=\"-162\" rx=\"50.89\" ry=\"18\"/>\n<text text-anchor=\"middle\" x=\"157.5\" y=\"-158.3\" font-family=\"Times,serif\" font-size=\"14.00\">Earthquake</text>\n</g>\n<!-- Earthquake&#45;&gt;Alarm -->\n<g id=\"edge2\" class=\"edge\">\n<title>Earthquake&#45;&gt;Alarm</title>\n<path fill=\"none\" stroke=\"black\" d=\"M144.22,-144.41C137.22,-135.66 128.5,-124.75 120.76,-115.08\"/>\n<polygon fill=\"black\" stroke=\"black\" points=\"123.27,-112.61 114.29,-106.99 117.8,-116.98 123.27,-112.61\"/>\n</g>\n<!-- JohnCalls -->\n<g id=\"node4\" class=\"node\">\n<title>JohnCalls</title>\n<ellipse fill=\"none\" stroke=\"black\" cx=\"45.5\" cy=\"-18\" rx=\"45.49\" ry=\"18\"/>\n<text text-anchor=\"middle\" x=\"45.5\" y=\"-14.3\" font-family=\"Times,serif\" font-size=\"14.00\">JohnCalls</text>\n</g>\n<!-- Alarm&#45;&gt;JohnCalls -->\n<g id=\"edge3\" class=\"edge\">\n<title>Alarm&#45;&gt;JohnCalls</title>\n<path fill=\"none\" stroke=\"black\" d=\"M88.79,-73.12C81.73,-64.29 72.8,-53.13 64.89,-43.24\"/>\n<polygon fill=\"black\" stroke=\"black\" points=\"67.52,-40.93 58.54,-35.31 62.06,-45.3 67.52,-40.93\"/>\n</g>\n<!-- MaryCalls -->\n<g id=\"node5\" class=\"node\">\n<title>MaryCalls</title>\n<ellipse fill=\"none\" stroke=\"black\" cx=\"157.5\" cy=\"-18\" rx=\"48.19\" ry=\"18\"/>\n<text text-anchor=\"middle\" x=\"157.5\" y=\"-14.3\" font-family=\"Times,serif\" font-size=\"14.00\">MaryCalls</text>\n</g>\n<!-- Alarm&#45;&gt;MaryCalls -->\n<g id=\"edge4\" class=\"edge\">\n<title>Alarm&#45;&gt;MaryCalls</title>\n<path fill=\"none\" stroke=\"black\" d=\"M114.2,-73.12C121.16,-64.42 129.94,-53.45 137.77,-43.66\"/>\n<polygon fill=\"black\" stroke=\"black\" points=\"140.54,-45.79 144.06,-35.8 135.08,-41.42 140.54,-45.79\"/>\n</g>\n</g>\n</svg>\n",
            "text/plain": [
              "<graphviz.graphs.Digraph at 0x7f23652972d0>"
            ]
          },
          "metadata": {}
        }
      ],
      "source": [
        "bn.visualize_ipython()"
      ]
    },
    {
      "cell_type": "code",
      "execution_count": 7,
      "id": "223cf53b",
      "metadata": {
        "colab": {
          "base_uri": "https://localhost:8080/"
        },
        "id": "223cf53b",
        "outputId": "1f5e635d-f41a-4631-96cc-404cab33df1e"
      },
      "outputs": [
        {
          "output_type": "stream",
          "name": "stdout",
          "text": [
            "P(Burglary=True): {True: 0.001, False: 0.999}\n",
            "P(Burglary=True | JohnCalls=True, MaryCalls=True): {True: 0.2841718353643929, False: 0.7158281646356071}\n"
          ]
        }
      ],
      "source": [
        "print(\"P(Burglary=True):\", bn.query('Burglary'))\n",
        "print(\"P(Burglary=True | JohnCalls=True, MaryCalls=True):\", bn.query('Burglary', {'JohnCalls': True, 'MaryCalls': True}))"
      ]
    }
  ],
  "metadata": {
    "kernelspec": {
      "display_name": "base",
      "language": "python",
      "name": "python3"
    },
    "language_info": {
      "codemirror_mode": {
        "name": "ipython",
        "version": 3
      },
      "file_extension": ".py",
      "mimetype": "text/x-python",
      "name": "python",
      "nbconvert_exporter": "python",
      "pygments_lexer": "ipython3",
      "version": "3.12.4"
    },
    "colab": {
      "provenance": []
    }
  },
  "nbformat": 4,
  "nbformat_minor": 5
}